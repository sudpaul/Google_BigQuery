{
  "cells": [
    {
      "metadata": {
        "_uuid": "f49499392cc57f925a0515011943168b0c4d122f",
        "_cell_guid": "5bc1b235-79bf-4f75-ba41-c47275d856c4",
        "trusted": true,
        "collapsed": true
      },
      "cell_type": "code",
      "source": "from google.cloud import bigquery\nimport bq_helper \nimport numpy as np\nimport pandas as pd",
      "execution_count": null,
      "outputs": []
    },
    {
      "metadata": {
        "_uuid": "ab40ebc98c64c78df9a11d922bbc23573a43aefe",
        "_cell_guid": "9a26e7db-812d-4fbb-b457-e09d323af127",
        "trusted": true,
        "collapsed": true
      },
      "cell_type": "code",
      "source": "# create a helper object for this dataset\naccidents = bq_helper.BigQueryHelper(active_project=\"bigquery-public-data\",\n                                   dataset_name=\"nhtsa_traffic_fatalities\")",
      "execution_count": null,
      "outputs": []
    },
    {
      "metadata": {
        "_uuid": "c7236e4dd16a2717f8f76c882fa6f5e825a8eddb",
        "_cell_guid": "f6f98773-93a0-4fae-bb1b-6d808c59397d",
        "trusted": true,
        "collapsed": true
      },
      "cell_type": "code",
      "source": "list(accidents.head('accident_2016').columns)",
      "execution_count": null,
      "outputs": []
    },
    {
      "metadata": {
        "_uuid": "1ab734a61a0ad6c9fe2fd6f2e829803d7dbd6005",
        "collapsed": true,
        "_cell_guid": "8b0a93a3-7627-4bf0-a127-b67ed660a2aa",
        "trusted": true
      },
      "cell_type": "code",
      "source": "query = \"\"\"SELECT state_name,\n            COUNT(consecutive_number) AS total\n            FROM `bigquery-public-data.nhtsa_traffic_fatalities.accident_2016`\n            GROUP BY 1\n            ORDER BY COUNT(consecutive_number) DESC\n        \"\"\"\naccidents_by_states = accidents.query_to_pandas_safe(query)",
      "execution_count": null,
      "outputs": []
    },
    {
      "metadata": {
        "_uuid": "956bdce0dbe6e21fff078d9d151098442fddea9d",
        "trusted": true,
        "collapsed": true
      },
      "cell_type": "code",
      "source": "accidents_by_states['state_name'].unique()",
      "execution_count": null,
      "outputs": []
    },
    {
      "metadata": {
        "_uuid": "a343e7857be3490ee6375d4d22198e6bf8e41c61"
      },
      "cell_type": "markdown",
      "source": "## Top 10 States by Traffic fatalities by 2016 in USA"
    },
    {
      "metadata": {
        "trusted": true,
        "_uuid": "bfcc479c412819f3ec928d33e65b0eecb5e49c84",
        "collapsed": true
      },
      "cell_type": "code",
      "source": "accidents_by_states.head(10)",
      "execution_count": null,
      "outputs": []
    },
    {
      "metadata": {
        "trusted": true,
        "_uuid": "360398dc8b3466459ff12c7ad79b15283d24e333",
        "collapsed": true
      },
      "cell_type": "code",
      "source": "import plotly.offline as py\npy.init_notebook_mode(connected=True)\nimport plotly.graph_objs as go\nimport plotly.tools as tls\nnumber = accidents_by_states.total.head(10)\nname = accidents_by_states.state_name.head(10)\n\n\ntrace0 = go.Bar(x=number, y=name, orientation = 'h')\ndata = [trace0]\n\nlayout = go.Layout(title='Top 10 States Total Traffic Fatalities in 2016')\n\nfig = go.Figure(data=data, layout=layout)\npy.iplot(fig, filename='Fatalities_2016')",
      "execution_count": null,
      "outputs": []
    },
    {
      "metadata": {
        "trusted": true,
        "_uuid": "cbd7e8921060b49c2f101ee82ef966cb04fcfe08",
        "collapsed": true
      },
      "cell_type": "code",
      "source": "!pip install folium",
      "execution_count": null,
      "outputs": []
    },
    {
      "metadata": {
        "_uuid": "9de80d71916a06648db4aad77f033daf5b463858"
      },
      "cell_type": "markdown",
      "source": "## Mapping states fatalities "
    },
    {
      "metadata": {
        "trusted": true,
        "_uuid": "993944e5948245f9c43384846d3966f8bca51e73",
        "collapsed": true
      },
      "cell_type": "code",
      "source": "query = \"\"\"SELECT DISTINCT(state_name),\n             latitude, longitude\n            FROM `bigquery-public-data.nhtsa_traffic_fatalities.accident_2016`\n                     \n        \"\"\"\nlocation = accidents.query_to_pandas_safe(query)",
      "execution_count": null,
      "outputs": []
    },
    {
      "metadata": {
        "trusted": true,
        "_uuid": "1572905dcccaaaefb2bd264972992a91f6150ebb",
        "collapsed": true
      },
      "cell_type": "code",
      "source": "states_cordinates = location.groupby(['state_name'])['latitude', 'longitude'].mean()",
      "execution_count": null,
      "outputs": []
    },
    {
      "metadata": {
        "trusted": true,
        "_uuid": "b4e43d8119b27a23e6ccac84089c253c5b7ed65a",
        "collapsed": true
      },
      "cell_type": "code",
      "source": "states_cordinates = states_cordinates.reset_index()",
      "execution_count": null,
      "outputs": []
    },
    {
      "metadata": {
        "trusted": true,
        "_uuid": "ec6bcd9c4c4f68827be7772b5f67e346f6ed39a5",
        "collapsed": true
      },
      "cell_type": "code",
      "source": "states_cordinates.columns",
      "execution_count": null,
      "outputs": []
    },
    {
      "metadata": {
        "trusted": true,
        "_uuid": "df52666191cdbc839b6ff8a61aab5870dc03a873",
        "collapsed": true
      },
      "cell_type": "code",
      "source": "accidents_by_states.sort_values('state_name', inplace=True)",
      "execution_count": null,
      "outputs": []
    },
    {
      "metadata": {
        "trusted": true,
        "_uuid": "28ab60dd0b421a10407d23b300a49a35ed2840a4",
        "collapsed": true
      },
      "cell_type": "code",
      "source": "accidents_by_states",
      "execution_count": null,
      "outputs": []
    },
    {
      "metadata": {
        "trusted": true,
        "_uuid": "e1b5b80826253e1407bd7503632b5ab7ab0da9ac",
        "collapsed": true
      },
      "cell_type": "code",
      "source": "sates_df = states_cordinates.merge(accidents_by_states,on='state_name', how='inner')",
      "execution_count": null,
      "outputs": []
    },
    {
      "metadata": {
        "trusted": true,
        "_uuid": "5a90d47da6d39f9a2e08f6b00d46f0df01c601e0",
        "collapsed": true
      },
      "cell_type": "code",
      "source": "sates_df",
      "execution_count": null,
      "outputs": []
    },
    {
      "metadata": {
        "trusted": true,
        "_uuid": "23e378ecaf219cda311cb3ecfb325b6f1cceed88",
        "collapsed": true
      },
      "cell_type": "code",
      "source": "import folium\nfrom folium import plugins\nmap_obj = folium.Map(location=[42.50, -99.45], tiles='cartodbpositron', zoom_start=3.5)\nfor j, rown in sates_df.iterrows():\n    rown = list(rown)\n    folium.CircleMarker([float(rown[1]), float(rown[2])], popup=\"<b>State:</b>\" + rown[0].title() +\"<br> <b>Fatalites:</b> \"+str(int(rown[3])), radius=float(rown[3])*0.001, color='#be0eef', fill=True).add_to(map_obj)\nmap_obj",
      "execution_count": null,
      "outputs": []
    }
  ],
  "metadata": {
    "language_info": {
      "mimetype": "text/x-python",
      "nbconvert_exporter": "python",
      "name": "python",
      "pygments_lexer": "ipython3",
      "version": "3.5.4",
      "file_extension": ".py",
      "codemirror_mode": {
        "version": 3,
        "name": "ipython"
      }
    },
    "kernelspec": {
      "name": "python3",
      "display_name": "Python 3",
      "language": "python"
    }
  },
  "nbformat": 4,
  "nbformat_minor": 1
}